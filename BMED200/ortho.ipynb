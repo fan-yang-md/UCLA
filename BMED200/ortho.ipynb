{
 "cells": [
  {
   "cell_type": "code",
   "execution_count": null,
   "metadata": {},
   "outputs": [],
   "source": [
    "import numpy as np\n",
    "\n",
    "def check_square(matrix):\n",
    "    return matrix.shape[0] == matrix.shape[1]\n",
    "\n",
    "def orthogonal(matrix):\n",
    "    if not check_square(matrix):\n",
    "        return False\n",
    "    else:\n",
    "        transp = np.transpose(matrix)\n",
    "        id_matrix = np.eye(matrix.shape[0])\n",
    "\n",
    "        return np.dot(transp, matrix) == id_matrix\n",
    "    \n",
    "def orthonormal(matrix):\n",
    "    if orthogonal(matrix):\n",
    "        "
   ]
  },
  {
   "cell_type": "code",
   "execution_count": null,
   "metadata": {},
   "outputs": [],
   "source": []
  }
 ],
 "metadata": {
  "language_info": {
   "name": "python"
  }
 },
 "nbformat": 4,
 "nbformat_minor": 2
}
