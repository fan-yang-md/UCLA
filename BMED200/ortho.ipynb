{
 "cells": [
  {
   "cell_type": "code",
   "execution_count": 1,
   "metadata": {},
   "outputs": [],
   "source": [
    "import numpy as np\n",
    "\n",
    "def check_square(matrix):\n",
    "    return matrix.shape[0] == matrix.shape[1]\n",
    "\n",
    "def orthogonal(matrix):\n",
    "    if not check_square(matrix):\n",
    "        return False\n",
    "    else:\n",
    "        transp = np.transpose(matrix)\n",
    "        id_matrix = np.eye(matrix.shape[0])\n",
    "\n",
    "        return np.array_equal(np.dot(transp, matrix), id_matrix)\n",
    "    \n",
    "def orthonormal(matrix):\n",
    "    if orthogonal(matrix):\n",
    "        for i in range(matrix.shape[0]):\n",
    "            if not sum(matrix[i][j]**2 for j in range(matrix.shape[0]))**0.5 == 1:\n",
    "                return False\n",
    "            else:\n",
    "                return True\n",
    "    else:\n",
    "        return False\n",
    "            "
   ]
  },
  {
   "cell_type": "code",
   "execution_count": 2,
   "metadata": {},
   "outputs": [
    {
     "name": "stdout",
     "output_type": "stream",
     "text": [
      "[[1 0 0]\n",
      " [0 1 0]\n",
      " [0 0 1]]\n",
      "Orthogonal: True, Orthonormal: True\n"
     ]
    }
   ],
   "source": [
    "matrix = np.array([\n",
    "    [1, 0, 0],\n",
    "    [0, 1, 0],\n",
    "    [0, 0, 1]\n",
    "])\n",
    "\n",
    "is_ortho = orthogonal(matrix)\n",
    "is_ortho_norm = orthonormal(matrix)\n",
    "\n",
    "print(matrix)\n",
    "print(f\"Orthogonal: {is_ortho}, Orthonormal: {is_ortho_norm}\")"
   ]
  }
 ],
 "metadata": {
  "kernelspec": {
   "display_name": "cn_ml_course",
   "language": "python",
   "name": "python3"
  },
  "language_info": {
   "codemirror_mode": {
    "name": "ipython",
    "version": 3
   },
   "file_extension": ".py",
   "mimetype": "text/x-python",
   "name": "python",
   "nbconvert_exporter": "python",
   "pygments_lexer": "ipython3",
   "version": "3.11.3"
  }
 },
 "nbformat": 4,
 "nbformat_minor": 2
}
