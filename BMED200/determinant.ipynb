{
 "cells": [
  {
   "cell_type": "code",
   "execution_count": 1,
   "metadata": {},
   "outputs": [],
   "source": [
    "import numpy as np\n",
    "\n",
    "def reduce_matrix(matrix, row, col):\n",
    "    return np.delete(np.delete(matrix, row, axis=0), col, axis=1)\n",
    "\n",
    "def check_square(matrix):\n",
    "    return matrix.shape[0] == matrix.shape[1]\n",
    "\n",
    "def determinant(matrix):\n",
    "    if not check_square(matrix):\n",
    "        print(\"This matrix is not square and thus does not have a determinant.\")\n",
    "        return None\n",
    "    \n",
    "    if matrix.shape[0] == 2:\n",
    "        return matrix[0,0]*matrix[1,1] - matrix[0,1]*matrix[1,0]\n",
    "    else:\n",
    "        det = 0\n",
    "        for x in range(matrix.shape[0]):\n",
    "            reduced_matrix = reduce_matrix(matrix, 0, x)\n",
    "            det += ((-1)**x)*matrix[0,x]*determinant(reduced_matrix)\n",
    "\n",
    "        return det"
   ]
  }
 ],
 "metadata": {
  "kernelspec": {
   "display_name": "cn_ml_course",
   "language": "python",
   "name": "python3"
  },
  "language_info": {
   "codemirror_mode": {
    "name": "ipython",
    "version": 3
   },
   "file_extension": ".py",
   "mimetype": "text/x-python",
   "name": "python",
   "nbconvert_exporter": "python",
   "pygments_lexer": "ipython3",
   "version": "3.11.3"
  }
 },
 "nbformat": 4,
 "nbformat_minor": 2
}
