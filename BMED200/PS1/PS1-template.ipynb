{
 "cells": [
  {
   "cell_type": "code",
   "execution_count": 2,
   "id": "74b768bf",
   "metadata": {},
   "outputs": [],
   "source": [
    "import numpy as np\n",
    "import pandas as pd\n",
    "import matplotlib.pyplot as plt"
   ]
  },
  {
   "cell_type": "code",
   "execution_count": 2,
   "id": "8863ba12",
   "metadata": {},
   "outputs": [],
   "source": [
    "def determinant(A):\n",
    "    assert(A.shape[0] == A.shape[1])\n",
    "    #TODO"
   ]
  },
  {
   "cell_type": "code",
   "execution_count": 3,
   "id": "5f2db4b6",
   "metadata": {},
   "outputs": [],
   "source": [
    "def orthognal(A):\n",
    "    #TODO\n",
    "    return"
   ]
  },
  {
   "cell_type": "code",
   "execution_count": 4,
   "id": "2897bb33",
   "metadata": {},
   "outputs": [],
   "source": [
    "X = pd.read_csv(\"PS1/data/X.csv\",index_col=0).values\n",
    "y = pd.read_csv(\"PS1/data/y.csv\",index_col=0).values.flatten()"
   ]
  },
  {
   "cell_type": "code",
   "execution_count": 3,
   "id": "8bcc7833",
   "metadata": {
    "scrolled": true
   },
   "outputs": [
    {
     "data": {
      "text/html": [
       "<div>\n",
       "<style scoped>\n",
       "    .dataframe tbody tr th:only-of-type {\n",
       "        vertical-align: middle;\n",
       "    }\n",
       "\n",
       "    .dataframe tbody tr th {\n",
       "        vertical-align: top;\n",
       "    }\n",
       "\n",
       "    .dataframe thead th {\n",
       "        text-align: right;\n",
       "    }\n",
       "</style>\n",
       "<table border=\"1\" class=\"dataframe\">\n",
       "  <thead>\n",
       "    <tr style=\"text-align: right;\">\n",
       "      <th></th>\n",
       "      <th>intercept</th>\n",
       "      <th>feature_1</th>\n",
       "      <th>feature_2</th>\n",
       "    </tr>\n",
       "  </thead>\n",
       "  <tbody>\n",
       "    <tr>\n",
       "      <th>sample_1</th>\n",
       "      <td>1.0</td>\n",
       "      <td>0.515773</td>\n",
       "      <td>0.266022</td>\n",
       "    </tr>\n",
       "    <tr>\n",
       "      <th>sample_2</th>\n",
       "      <td>1.0</td>\n",
       "      <td>0.790645</td>\n",
       "      <td>0.625120</td>\n",
       "    </tr>\n",
       "    <tr>\n",
       "      <th>sample_3</th>\n",
       "      <td>1.0</td>\n",
       "      <td>0.685289</td>\n",
       "      <td>0.469621</td>\n",
       "    </tr>\n",
       "    <tr>\n",
       "      <th>sample_4</th>\n",
       "      <td>1.0</td>\n",
       "      <td>0.946009</td>\n",
       "      <td>0.894933</td>\n",
       "    </tr>\n",
       "    <tr>\n",
       "      <th>sample_5</th>\n",
       "      <td>1.0</td>\n",
       "      <td>0.531690</td>\n",
       "      <td>0.282694</td>\n",
       "    </tr>\n",
       "    <tr>\n",
       "      <th>sample_6</th>\n",
       "      <td>1.0</td>\n",
       "      <td>0.118853</td>\n",
       "      <td>0.014126</td>\n",
       "    </tr>\n",
       "    <tr>\n",
       "      <th>sample_7</th>\n",
       "      <td>1.0</td>\n",
       "      <td>0.600345</td>\n",
       "      <td>0.360414</td>\n",
       "    </tr>\n",
       "    <tr>\n",
       "      <th>sample_8</th>\n",
       "      <td>1.0</td>\n",
       "      <td>0.090962</td>\n",
       "      <td>0.008274</td>\n",
       "    </tr>\n",
       "    <tr>\n",
       "      <th>sample_9</th>\n",
       "      <td>1.0</td>\n",
       "      <td>0.355033</td>\n",
       "      <td>0.126048</td>\n",
       "    </tr>\n",
       "    <tr>\n",
       "      <th>sample_10</th>\n",
       "      <td>1.0</td>\n",
       "      <td>0.204493</td>\n",
       "      <td>0.041817</td>\n",
       "    </tr>\n",
       "    <tr>\n",
       "      <th>sample_11</th>\n",
       "      <td>1.0</td>\n",
       "      <td>0.812833</td>\n",
       "      <td>0.660697</td>\n",
       "    </tr>\n",
       "    <tr>\n",
       "      <th>sample_12</th>\n",
       "      <td>1.0</td>\n",
       "      <td>0.252854</td>\n",
       "      <td>0.063935</td>\n",
       "    </tr>\n",
       "    <tr>\n",
       "      <th>sample_13</th>\n",
       "      <td>1.0</td>\n",
       "      <td>0.527025</td>\n",
       "      <td>0.277755</td>\n",
       "    </tr>\n",
       "    <tr>\n",
       "      <th>sample_14</th>\n",
       "      <td>1.0</td>\n",
       "      <td>0.260206</td>\n",
       "      <td>0.067707</td>\n",
       "    </tr>\n",
       "    <tr>\n",
       "      <th>sample_15</th>\n",
       "      <td>1.0</td>\n",
       "      <td>0.244096</td>\n",
       "      <td>0.059583</td>\n",
       "    </tr>\n",
       "    <tr>\n",
       "      <th>sample_16</th>\n",
       "      <td>1.0</td>\n",
       "      <td>0.383914</td>\n",
       "      <td>0.147390</td>\n",
       "    </tr>\n",
       "    <tr>\n",
       "      <th>sample_17</th>\n",
       "      <td>1.0</td>\n",
       "      <td>0.767244</td>\n",
       "      <td>0.588663</td>\n",
       "    </tr>\n",
       "    <tr>\n",
       "      <th>sample_18</th>\n",
       "      <td>1.0</td>\n",
       "      <td>0.461121</td>\n",
       "      <td>0.212633</td>\n",
       "    </tr>\n",
       "    <tr>\n",
       "      <th>sample_19</th>\n",
       "      <td>1.0</td>\n",
       "      <td>0.746685</td>\n",
       "      <td>0.557538</td>\n",
       "    </tr>\n",
       "    <tr>\n",
       "      <th>sample_20</th>\n",
       "      <td>1.0</td>\n",
       "      <td>0.052486</td>\n",
       "      <td>0.002755</td>\n",
       "    </tr>\n",
       "  </tbody>\n",
       "</table>\n",
       "</div>"
      ],
      "text/plain": [
       "           intercept  feature_1  feature_2\n",
       "sample_1         1.0   0.515773   0.266022\n",
       "sample_2         1.0   0.790645   0.625120\n",
       "sample_3         1.0   0.685289   0.469621\n",
       "sample_4         1.0   0.946009   0.894933\n",
       "sample_5         1.0   0.531690   0.282694\n",
       "sample_6         1.0   0.118853   0.014126\n",
       "sample_7         1.0   0.600345   0.360414\n",
       "sample_8         1.0   0.090962   0.008274\n",
       "sample_9         1.0   0.355033   0.126048\n",
       "sample_10        1.0   0.204493   0.041817\n",
       "sample_11        1.0   0.812833   0.660697\n",
       "sample_12        1.0   0.252854   0.063935\n",
       "sample_13        1.0   0.527025   0.277755\n",
       "sample_14        1.0   0.260206   0.067707\n",
       "sample_15        1.0   0.244096   0.059583\n",
       "sample_16        1.0   0.383914   0.147390\n",
       "sample_17        1.0   0.767244   0.588663\n",
       "sample_18        1.0   0.461121   0.212633\n",
       "sample_19        1.0   0.746685   0.557538\n",
       "sample_20        1.0   0.052486   0.002755"
      ]
     },
     "execution_count": 3,
     "metadata": {},
     "output_type": "execute_result"
    }
   ],
   "source": [
    "pd.read_csv(\"PS1/data/X.csv\",index_col=0)"
   ]
  },
  {
   "cell_type": "code",
   "execution_count": 5,
   "id": "e7f861c1",
   "metadata": {},
   "outputs": [
    {
     "data": {
      "text/plain": [
       "array([[1.        , 0.515773  , 0.26602179],\n",
       "       [1.        , 0.790645  , 0.62511952],\n",
       "       [1.        , 0.685289  , 0.46962101],\n",
       "       [1.        , 0.946009  , 0.89493303],\n",
       "       [1.        , 0.53169   , 0.28269426],\n",
       "       [1.        , 0.118853  , 0.01412604],\n",
       "       [1.        , 0.600345  , 0.36041412],\n",
       "       [1.        , 0.090962  , 0.00827409],\n",
       "       [1.        , 0.355033  , 0.12604843],\n",
       "       [1.        , 0.204493  , 0.04181739],\n",
       "       [1.        , 0.812833  , 0.66069749],\n",
       "       [1.        , 0.252854  , 0.06393515],\n",
       "       [1.        , 0.527025  , 0.27775535],\n",
       "       [1.        , 0.260206  , 0.06770716],\n",
       "       [1.        , 0.244096  , 0.05958286],\n",
       "       [1.        , 0.383914  , 0.14738996],\n",
       "       [1.        , 0.767244  , 0.58866336],\n",
       "       [1.        , 0.461121  , 0.21263258],\n",
       "       [1.        , 0.746685  , 0.55753849],\n",
       "       [1.        , 0.052486  , 0.00275478]])"
      ]
     },
     "execution_count": 5,
     "metadata": {},
     "output_type": "execute_result"
    }
   ],
   "source": [
    "X"
   ]
  },
  {
   "cell_type": "code",
   "execution_count": 6,
   "id": "1c0ecc34",
   "metadata": {},
   "outputs": [
    {
     "data": {
      "text/plain": [
       "array([ 1.158911,  0.230675,  0.406063,  0.615157,  0.361597,  2.043188,\n",
       "        0.301908,  1.809588,  1.944187,  2.341777,  0.081176,  2.666921,\n",
       "        0.491676,  1.633808,  2.108841,  1.737318, -0.003044,  1.04928 ,\n",
       "       -0.038607,  1.661699])"
      ]
     },
     "execution_count": 6,
     "metadata": {},
     "output_type": "execute_result"
    }
   ],
   "source": [
    "y"
   ]
  },
  {
   "cell_type": "code",
   "execution_count": 9,
   "id": "02fde042",
   "metadata": {},
   "outputs": [],
   "source": [
    "def fit_GD(X, y, alpha = None, tmax = 10**(4), eps = 10**(-8)):\n",
    "    np.random.seed(0)\n",
    "    n = X.shape[0]\n",
    "\n",
    "    beta = np.random.normal(0, 0, X.shape[1])\n",
    "    for t in range(tmax):\n",
    "            \n",
    "        #TODO: \n",
    "        \n",
    "        #calculate gradient g\n",
    "        \n",
    "        #update by the formulat provided in the problem statement\n",
    "           \n",
    "        #convergence check\n",
    "        \n",
    "    return "
   ]
  },
  {
   "cell_type": "code",
   "execution_count": null,
   "id": "20c8dc85",
   "metadata": {},
   "outputs": [],
   "source": []
  }
 ],
 "metadata": {
  "kernelspec": {
   "display_name": "Python 3 (ipykernel)",
   "language": "python",
   "name": "python3"
  },
  "language_info": {
   "codemirror_mode": {
    "name": "ipython",
    "version": 3
   },
   "file_extension": ".py",
   "mimetype": "text/x-python",
   "name": "python",
   "nbconvert_exporter": "python",
   "pygments_lexer": "ipython3",
   "version": "3.9.13"
  }
 },
 "nbformat": 4,
 "nbformat_minor": 5
}
