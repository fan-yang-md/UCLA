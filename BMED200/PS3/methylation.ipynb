{
 "cells": [
  {
   "cell_type": "code",
   "execution_count": 1,
   "metadata": {},
   "outputs": [],
   "source": [
    "import pandas as pd"
   ]
  },
  {
   "cell_type": "code",
   "execution_count": 2,
   "metadata": {},
   "outputs": [],
   "source": [
    "control_data = pd.read_csv('control.tsv', sep='\\t')"
   ]
  },
  {
   "cell_type": "code",
   "execution_count": 5,
   "metadata": {},
   "outputs": [
    {
     "name": "stderr",
     "output_type": "stream",
     "text": [
      "C:\\Users\\13392\\AppData\\Local\\Temp\\ipykernel_8404\\1175489384.py:1: FutureWarning: ['Unnamed: 0'] did not aggregate successfully. If any error is raised this will raise in a future version of pandas. Drop these columns/ops to avoid this warning.\n",
      "  control_stats = control_data.agg(['mean','var']).T\n"
     ]
    }
   ],
   "source": [
    "control_stats = control_data.agg(['mean','var']).T\n",
    "control_stats.columns = ['mean', 'variance']"
   ]
  },
  {
   "cell_type": "code",
   "execution_count": 6,
   "metadata": {},
   "outputs": [
    {
     "data": {
      "text/html": [
       "<div>\n",
       "<style scoped>\n",
       "    .dataframe tbody tr th:only-of-type {\n",
       "        vertical-align: middle;\n",
       "    }\n",
       "\n",
       "    .dataframe tbody tr th {\n",
       "        vertical-align: top;\n",
       "    }\n",
       "\n",
       "    .dataframe thead th {\n",
       "        text-align: right;\n",
       "    }\n",
       "</style>\n",
       "<table border=\"1\" class=\"dataframe\">\n",
       "  <thead>\n",
       "    <tr style=\"text-align: right;\">\n",
       "      <th></th>\n",
       "      <th>mean</th>\n",
       "      <th>variance</th>\n",
       "    </tr>\n",
       "  </thead>\n",
       "  <tbody>\n",
       "    <tr>\n",
       "      <th>cpg36121529</th>\n",
       "      <td>0.205373</td>\n",
       "      <td>0.024837</td>\n",
       "    </tr>\n",
       "    <tr>\n",
       "      <th>cpg46706185</th>\n",
       "      <td>0.663271</td>\n",
       "      <td>0.020175</td>\n",
       "    </tr>\n",
       "    <tr>\n",
       "      <th>cpg67875497</th>\n",
       "      <td>0.204275</td>\n",
       "      <td>0.008680</td>\n",
       "    </tr>\n",
       "    <tr>\n",
       "      <th>cpg30829201</th>\n",
       "      <td>0.485447</td>\n",
       "      <td>0.011138</td>\n",
       "    </tr>\n",
       "    <tr>\n",
       "      <th>cpg57290841</th>\n",
       "      <td>0.215023</td>\n",
       "      <td>0.009711</td>\n",
       "    </tr>\n",
       "    <tr>\n",
       "      <th>cpg62583169</th>\n",
       "      <td>0.520683</td>\n",
       "      <td>0.024602</td>\n",
       "    </tr>\n",
       "    <tr>\n",
       "      <th>cpg51998513</th>\n",
       "      <td>0.488586</td>\n",
       "      <td>0.009576</td>\n",
       "    </tr>\n",
       "    <tr>\n",
       "      <th>cpg73167825</th>\n",
       "      <td>0.555042</td>\n",
       "      <td>0.025218</td>\n",
       "    </tr>\n",
       "    <tr>\n",
       "      <th>cpg78460153</th>\n",
       "      <td>0.502755</td>\n",
       "      <td>0.052745</td>\n",
       "    </tr>\n",
       "    <tr>\n",
       "      <th>cpg41413857</th>\n",
       "      <td>0.302307</td>\n",
       "      <td>0.011432</td>\n",
       "    </tr>\n",
       "  </tbody>\n",
       "</table>\n",
       "</div>"
      ],
      "text/plain": [
       "                 mean  variance\n",
       "cpg36121529  0.205373  0.024837\n",
       "cpg46706185  0.663271  0.020175\n",
       "cpg67875497  0.204275  0.008680\n",
       "cpg30829201  0.485447  0.011138\n",
       "cpg57290841  0.215023  0.009711\n",
       "cpg62583169  0.520683  0.024602\n",
       "cpg51998513  0.488586  0.009576\n",
       "cpg73167825  0.555042  0.025218\n",
       "cpg78460153  0.502755  0.052745\n",
       "cpg41413857  0.302307  0.011432"
      ]
     },
     "execution_count": 6,
     "metadata": {},
     "output_type": "execute_result"
    }
   ],
   "source": [
    "control_stats"
   ]
  },
  {
   "cell_type": "code",
   "execution_count": null,
   "metadata": {},
   "outputs": [],
   "source": []
  }
 ],
 "metadata": {
  "kernelspec": {
   "display_name": "cn_ml_course",
   "language": "python",
   "name": "python3"
  },
  "language_info": {
   "codemirror_mode": {
    "name": "ipython",
    "version": 3
   },
   "file_extension": ".py",
   "mimetype": "text/x-python",
   "name": "python",
   "nbconvert_exporter": "python",
   "pygments_lexer": "ipython3",
   "version": "3.11.3"
  }
 },
 "nbformat": 4,
 "nbformat_minor": 2
}
