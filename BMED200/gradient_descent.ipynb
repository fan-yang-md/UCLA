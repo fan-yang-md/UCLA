{
 "cells": [
  {
   "cell_type": "code",
   "execution_count": 1,
   "metadata": {},
   "outputs": [
    {
     "ename": "ValueError",
     "evalue": "shapes (20,3) and (20,3) not aligned: 3 (dim 1) != 20 (dim 0)",
     "output_type": "error",
     "traceback": [
      "\u001b[1;31m---------------------------------------------------------------------------\u001b[0m",
      "\u001b[1;31mValueError\u001b[0m                                Traceback (most recent call last)",
      "Cell \u001b[1;32mIn[1], line 53\u001b[0m\n\u001b[0;32m     50\u001b[0m alpha \u001b[38;5;241m=\u001b[39m \u001b[38;5;241m0.01\u001b[39m\n\u001b[0;32m     52\u001b[0m \u001b[38;5;66;03m# Perform gradient descent\u001b[39;00m\n\u001b[1;32m---> 53\u001b[0m beta_optimal \u001b[38;5;241m=\u001b[39m \u001b[43mgradient_descent\u001b[49m\u001b[43m(\u001b[49m\u001b[43mX\u001b[49m\u001b[43m,\u001b[49m\u001b[43m \u001b[49m\u001b[43my\u001b[49m\u001b[43m,\u001b[49m\u001b[43m \u001b[49m\u001b[43malpha\u001b[49m\u001b[43m)\u001b[49m\n\u001b[0;32m     55\u001b[0m \u001b[38;5;66;03m# Display the results\u001b[39;00m\n\u001b[0;32m     56\u001b[0m \u001b[38;5;28mprint\u001b[39m(\u001b[38;5;124m\"\u001b[39m\u001b[38;5;124mOptimal beta coefficients:\u001b[39m\u001b[38;5;124m\"\u001b[39m)\n",
      "Cell \u001b[1;32mIn[1], line 26\u001b[0m, in \u001b[0;36mgradient_descent\u001b[1;34m(X, y, alpha, max_iter, tolerance)\u001b[0m\n\u001b[0;32m     22\u001b[0m prev_rss \u001b[38;5;241m=\u001b[39m \u001b[38;5;28mfloat\u001b[39m(\u001b[38;5;124m'\u001b[39m\u001b[38;5;124minf\u001b[39m\u001b[38;5;124m'\u001b[39m)\n\u001b[0;32m     24\u001b[0m \u001b[38;5;28;01mfor\u001b[39;00m iteration \u001b[38;5;129;01min\u001b[39;00m \u001b[38;5;28mrange\u001b[39m(max_iter):\n\u001b[0;32m     25\u001b[0m     \u001b[38;5;66;03m# Calculate the gradient\u001b[39;00m\n\u001b[1;32m---> 26\u001b[0m     predictions \u001b[38;5;241m=\u001b[39m \u001b[43mnp\u001b[49m\u001b[38;5;241;43m.\u001b[39;49m\u001b[43mdot\u001b[49m\u001b[43m(\u001b[49m\u001b[43mX\u001b[49m\u001b[43m,\u001b[49m\u001b[43m \u001b[49m\u001b[43mbeta\u001b[49m\u001b[43m)\u001b[49m\n\u001b[0;32m     27\u001b[0m     residuals \u001b[38;5;241m=\u001b[39m y \u001b[38;5;241m-\u001b[39m predictions\n\u001b[0;32m     28\u001b[0m     gradient \u001b[38;5;241m=\u001b[39m \u001b[38;5;241m-\u001b[39m\u001b[38;5;241m2\u001b[39m \u001b[38;5;241m*\u001b[39m np\u001b[38;5;241m.\u001b[39mdot(X\u001b[38;5;241m.\u001b[39mT, residuals)\n",
      "File \u001b[1;32m<__array_function__ internals>:180\u001b[0m, in \u001b[0;36mdot\u001b[1;34m(*args, **kwargs)\u001b[0m\n",
      "\u001b[1;31mValueError\u001b[0m: shapes (20,3) and (20,3) not aligned: 3 (dim 1) != 20 (dim 0)"
     ]
    }
   ],
   "source": [
    "import numpy as np\n",
    "import pandas as pd\n",
    "import matplotlib.pyplot as plt\n",
    "\n",
    "def load_data(x_file, y_file):\n",
    "    # Load the data from CSV files\n",
    "    X = pd.read_csv(\"PS1/data/X.csv\",index_col=0).values\n",
    "    y = pd.read_csv(\"PS1/data/y.csv\",index_col=0).values.flatten()\n",
    "    return X, y\n",
    "\n",
    "def compute_rss(X, y, beta):\n",
    "    # Compute the residual sum of squares (RSS)\n",
    "    residuals = y - np.dot(X, beta)\n",
    "    return np.sum(residuals ** 2)\n",
    "\n",
    "def gradient_descent(X, y, alpha, max_iter=10000, tolerance=1e-8):\n",
    "    # Initialize beta as a zero vector\n",
    "    n_features = X.shape\n",
    "    beta = np.zeros(n_features)\n",
    "    \n",
    "    # Initialize previous RSS for convergence check\n",
    "    prev_rss = float('inf')\n",
    "    \n",
    "    for iteration in range(max_iter):\n",
    "        # Calculate the gradient\n",
    "        predictions = np.dot(X, beta)\n",
    "        residuals = y - predictions\n",
    "        gradient = -2 * np.dot(X.T, residuals)\n",
    "        \n",
    "        # Update beta\n",
    "        beta = beta - alpha * gradient\n",
    "        \n",
    "        # Compute the current RSS\n",
    "        current_rss = compute_rss(X, y, beta)\n",
    "        \n",
    "        # Check for convergence\n",
    "        if abs(prev_rss - current_rss) < tolerance:\n",
    "            print(f\"Converged after {iteration + 1} iterations.\")\n",
    "            break\n",
    "        \n",
    "        # Update previous RSS\n",
    "        prev_rss = current_rss\n",
    "    \n",
    "    return beta\n",
    "\n",
    "# Load the data\n",
    "X, y = load_data('X.csv', 'Y.csv')\n",
    "\n",
    "# Set the step size\n",
    "alpha = 0.01\n",
    "\n",
    "# Perform gradient descent\n",
    "beta_optimal = gradient_descent(X, y, alpha)\n",
    "\n",
    "# Display the results\n",
    "print(\"Optimal beta coefficients:\")\n",
    "print(beta_optimal)\n"
   ]
  }
 ],
 "metadata": {
  "kernelspec": {
   "display_name": "cn_ml_course",
   "language": "python",
   "name": "python3"
  },
  "language_info": {
   "codemirror_mode": {
    "name": "ipython",
    "version": 3
   },
   "file_extension": ".py",
   "mimetype": "text/x-python",
   "name": "python",
   "nbconvert_exporter": "python",
   "pygments_lexer": "ipython3",
   "version": "3.11.3"
  }
 },
 "nbformat": 4,
 "nbformat_minor": 2
}
